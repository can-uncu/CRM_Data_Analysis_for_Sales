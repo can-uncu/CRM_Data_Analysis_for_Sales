{
 "cells": [
  {
   "cell_type": "markdown",
   "id": "aa41afaa",
   "metadata": {},
   "source": [
    "<style>\n",
    "@keyframes gradientMove {\n",
    "  0% { background-position: 0% 50%; }\n",
    "  50% { background-position: 100% 50%; }\n",
    "  100% { background-position: 0% 50%; }\n",
    "}\n",
    ".gradient-bg {\n",
    "  border-radius: 10px;\n",
    "  background: linear-gradient(-45deg, #ee7752, #e73c7e, #23a6d5, #23d5ab);\n",
    "  background-size: 300% 300%;\n",
    "  animation: gradientMove 8s ease infinite;\n",
    "  font-size: 130%;\n",
    "  text-align: left;\n",
    "}\n",
    "</style>\n",
    "\n",
    "<div class=\"gradient-bg\">\n",
    "  <br/>\n",
    "  <center><h1><font color='white'>Emrecan Üncü - CRM SALES PROJECT</font></h1></center>\n",
    "  <br/>\n",
    "</div>\n"
   ]
  },
  {
   "cell_type": "code",
   "execution_count": 2,
   "id": "041d37ff",
   "metadata": {},
   "outputs": [],
   "source": [
    "import pandas as pd\n",
    "\n",
    "import numpy as np\n",
    "\n",
    "import matplotlib.pyplot as plt\n",
    "\n",
    "import seaborn as sns\n",
    "\n",
    "from sklearn.preprocessing import LabelEncoder, StandardScaler, MinMaxScaler\n",
    "\n",
    "from sklearn.impute import SimpleImputer\n",
    "\n",
    "from datetime import datetime\n",
    "\n",
    "import warnings\n",
    "warnings.filterwarnings('ignore')"
   ]
  },
  {
   "cell_type": "markdown",
   "id": "01691a87",
   "metadata": {},
   "source": [
    "# =============================================================================\n",
    "# 1. VERİ YÜKLEME\n",
    "# ============================================================================="
   ]
  },
  {
   "cell_type": "code",
   "execution_count": 3,
   "id": "810741df",
   "metadata": {},
   "outputs": [],
   "source": [
    "DATA_PATH = r\"C:\\Users\\NITRO\\Desktop\\CRM_Data_Analysis_for_Sales\\Data\\orginal data\""
   ]
  },
  {
   "cell_type": "code",
   "execution_count": 5,
   "id": "784d9723",
   "metadata": {},
   "outputs": [],
   "source": [
    "\n",
    "accounts_df = pd.read_csv(f\"{DATA_PATH}/accounts.csv\")\n",
    "products_df = pd.read_csv(f\"{DATA_PATH}/products.csv\")\n",
    "sales_pipeline_df = pd.read_csv(f\"{DATA_PATH}/sales_pipeline.csv\")\n",
    "sales_team_df = pd.read_csv(f\"{DATA_PATH}/sales_teams.csv\")\n"
   ]
  },
  {
   "cell_type": "code",
   "execution_count": 6,
   "id": "45249585",
   "metadata": {},
   "outputs": [],
   "source": [
    "# Veri setlerinin kopyalarını oluştur (orijinali korumak için)\n",
    "accounts_clean = accounts_df.copy()\n",
    "sales_pipeline_clean = sales_pipeline_df.copy()\n",
    "sales_teams_clean = sales_team_df.copy()\n",
    "products_clean = products_df.copy()"
   ]
  },
  {
   "cell_type": "markdown",
   "id": "089f2498",
   "metadata": {},
   "source": [
    "# =============================================================================\n",
    "# 2. EKSİK VERİ YÖNETİMİ (MISSING DATA HANDLING)\n",
    "# ============================================================================="
   ]
  },
  {
   "cell_type": "code",
   "execution_count": 7,
   "id": "5850ed6c",
   "metadata": {},
   "outputs": [],
   "source": [
    "def handle_missing_data(df, table_name):\n",
    "    print(f\"\\n--- {table_name} ---\")\n",
    "    missing_before = df.isnull().sum().sum()\n",
    "    print(f\"Toplam eksik değer (önce): {missing_before}\")\n",
    "    \n",
    "    # Eksik veri stratejisi\n",
    "    for col in df.columns:\n",
    "        missing_count = df[col].isnull().sum()\n",
    "        if missing_count > 0:\n",
    "            missing_pct = (missing_count / len(df)) * 100\n",
    "            print(f\"  • {col}: {missing_count} eksik (%{missing_pct:.2f})\")\n",
    "            \n",
    "            # Stratejiler:\n",
    "            # 1. Kategorik değişkenler için mod (en sık değer)\n",
    "            if df[col].dtype == 'object':\n",
    "                mode_value = df[col].mode()[0] if not df[col].mode().empty else 'Unknown'\n",
    "                df[col].fillna(mode_value, inplace=True)\n",
    "                print(f\"    → '{mode_value}' ile dolduruldu (mod)\")\n",
    "            \n",
    "            # 2. Sayısal değişkenler için medyan\n",
    "            elif df[col].dtype in ['int64', 'float64']:\n",
    "                if missing_pct < 30:  # %30'dan az eksikse medyan kullan\n",
    "                    median_value = df[col].median()\n",
    "                    df[col].fillna(median_value, inplace=True)\n",
    "                    print(f\"    → {median_value} ile dolduruldu (medyan)\")\n",
    "                else:  # %30'dan fazlaysa sütunu düşünebiliriz\n",
    "                    print(f\"    → UYARI: Çok fazla eksik veri!\")\n",
    "    \n",
    "    missing_after = df.isnull().sum().sum()\n",
    "    print(f\"Toplam eksik değer (sonra): {missing_after}\")\n",
    "    return df"
   ]
  },
  {
   "cell_type": "code",
   "execution_count": 8,
   "id": "b8e890fc",
   "metadata": {},
   "outputs": [
    {
     "name": "stdout",
     "output_type": "stream",
     "text": [
      "\n",
      "--- ACCOUNTS ---\n",
      "Toplam eksik değer (önce): 70\n",
      "  • subsidiary_of: 70 eksik (%82.35)\n",
      "    → 'Acme Corporation' ile dolduruldu (mod)\n",
      "Toplam eksik değer (sonra): 0\n",
      "\n",
      "--- SALES_PIPELINE ---\n",
      "Toplam eksik değer (önce): 6103\n",
      "  • account: 1425 eksik (%16.19)\n",
      "    → 'Hottechi' ile dolduruldu (mod)\n",
      "  • engage_date: 500 eksik (%5.68)\n",
      "    → '2017-07-22' ile dolduruldu (mod)\n",
      "  • close_date: 2089 eksik (%23.74)\n",
      "    → '2017-05-22' ile dolduruldu (mod)\n",
      "  • close_value: 2089 eksik (%23.74)\n",
      "    → 472.0 ile dolduruldu (medyan)\n",
      "Toplam eksik değer (sonra): 0\n",
      "\n",
      "--- SALES_TEAMS ---\n",
      "Toplam eksik değer (önce): 0\n",
      "Toplam eksik değer (sonra): 0\n",
      "\n",
      "--- PRODUCTS ---\n",
      "Toplam eksik değer (önce): 0\n",
      "Toplam eksik değer (sonra): 0\n"
     ]
    }
   ],
   "source": [
    "accounts_clean = handle_missing_data(accounts_clean, \"ACCOUNTS\")\n",
    "sales_pipeline_clean = handle_missing_data(sales_pipeline_clean, \"SALES_PIPELINE\")\n",
    "sales_teams_clean = handle_missing_data(sales_teams_clean, \"SALES_TEAMS\")\n",
    "products_clean = handle_missing_data(products_clean, \"PRODUCTS\")"
   ]
  },
  {
   "cell_type": "markdown",
   "id": "b51fe975",
   "metadata": {},
   "source": [
    "# =============================================================================\n",
    "# 3. AYKIRI DEĞER YÖNETİMİ (OUTLIER HANDLING)\n",
    "# ============================================================================="
   ]
  },
  {
   "cell_type": "code",
   "execution_count": 9,
   "id": "812671d3",
   "metadata": {},
   "outputs": [],
   "source": [
    "def handle_outliers(df, column, method='cap'):\n",
    "    \"\"\"\n",
    "    method='cap': Aykırı değerleri sınırlara çek (winsorization)\n",
    "    method='remove': Aykırı değerleri kaldır\n",
    "    \"\"\"\n",
    "    if column not in df.columns or df[column].dtype not in ['int64', 'float64']:\n",
    "        return df\n",
    "    \n",
    "    Q1 = df[column].quantile(0.25)\n",
    "    Q3 = df[column].quantile(0.75)\n",
    "    IQR = Q3 - Q1\n",
    "    lower_bound = Q1 - 1.5 * IQR\n",
    "    upper_bound = Q3 + 1.5 * IQR\n",
    "    \n",
    "    outliers_count = len(df[(df[column] < lower_bound) | (df[column] > upper_bound)])\n",
    "    \n",
    "    if outliers_count > 0:\n",
    "        print(f\"\\n{column}:\")\n",
    "        print(f\"  Aykırı değer sayısı: {outliers_count}\")\n",
    "        print(f\"  Alt sınır: {lower_bound:.2f}, Üst sınır: {upper_bound:.2f}\")\n",
    "        \n",
    "        if method == 'cap':\n",
    "            df[column] = df[column].clip(lower=lower_bound, upper=upper_bound)\n",
    "            print(f\"  → Aykırı değerler sınırlara çekildi\")\n",
    "        elif method == 'remove':\n",
    "            df = df[(df[column] >= lower_bound) & (df[column] <= upper_bound)]\n",
    "            print(f\"  → Aykırı değerler silindi\")\n",
    "    \n",
    "    return df\n"
   ]
  },
  {
   "cell_type": "code",
   "execution_count": 10,
   "id": "611ff44c",
   "metadata": {},
   "outputs": [
    {
     "name": "stdout",
     "output_type": "stream",
     "text": [
      "\n",
      "revenue:\n",
      "  Aykırı değer sayısı: 6\n",
      "  Alt sınır: -2869.28, Üst sınır: 6107.76\n",
      "  → Aykırı değerler sınırlara çekildi\n",
      "\n",
      "employees:\n",
      "  Aykırı değer sayısı: 8\n",
      "  Alt sınır: -5445.00, Üst sınır: 12219.00\n",
      "  → Aykırı değerler sınırlara çekildi\n",
      "\n",
      "close_value:\n",
      "  Aykırı değer sayısı: 1863\n",
      "  Alt sınır: -1627.88, Üst sınır: 2713.12\n",
      "  → Aykırı değerler sınırlara çekildi\n"
     ]
    }
   ],
   "source": [
    "if 'revenue' in accounts_clean.columns:\n",
    "    accounts_clean = handle_outliers(accounts_clean, 'revenue', method='cap')\n",
    "\n",
    "if 'employees' in accounts_clean.columns:\n",
    "    accounts_clean = handle_outliers(accounts_clean, 'employees', method='cap')\n",
    "\n",
    "# SALES_PIPELINE tablosu için\n",
    "if 'close_value' in sales_pipeline_clean.columns:\n",
    "    sales_pipeline_clean = handle_outliers(sales_pipeline_clean, 'close_value', method='cap')\n",
    "\n",
    "# PRODUCTS tablosu için\n",
    "if 'sales_price' in products_clean.columns:\n",
    "    products_clean = handle_outliers(products_clean, 'sales_price_bigint', method='cap')"
   ]
  },
  {
   "cell_type": "markdown",
   "id": "5ac83bd8",
   "metadata": {},
   "source": [
    "# =============================================================================\n",
    "# 4. VERİ TİPİ DÖNÜŞÜMLERİ\n",
    "# ============================================================================="
   ]
  },
  {
   "cell_type": "code",
   "execution_count": 11,
   "id": "4bfc48dc",
   "metadata": {},
   "outputs": [
    {
     "name": "stdout",
     "output_type": "stream",
     "text": [
      "✓ engage_date datetime'a çevrildi\n",
      "✓ close_date datetime'a çevrildi\n"
     ]
    }
   ],
   "source": [
    "# Tarih sütunlarını datetime'a çevir\n",
    "date_columns_sales = ['engage_date', 'close_date']\n",
    "for col in date_columns_sales:\n",
    "    if col in sales_pipeline_clean.columns:\n",
    "        try:\n",
    "            sales_pipeline_clean[col] = pd.to_datetime(sales_pipeline_clean[col], errors='coerce')\n",
    "            print(f\"✓ {col} datetime'a çevrildi\")\n",
    "        except:\n",
    "            print(f\"✗ {col} çevrilemedi\")\n"
   ]
  },
  {
   "cell_type": "code",
   "execution_count": 12,
   "id": "283663dc",
   "metadata": {},
   "outputs": [
    {
     "name": "stdout",
     "output_type": "stream",
     "text": [
      "\n",
      "Text sütunları temizleniyor...\n",
      "✓ accounts.account temizlendi\n",
      "✓ accounts.sector temizlendi\n",
      "✓ accounts.office_location temizlendi\n",
      "✓ accounts.subsidiary_of temizlendi\n",
      "✓ sales_pipeline.opportunity_id temizlendi\n",
      "✓ sales_pipeline.sales_agent temizlendi\n",
      "✓ sales_pipeline.product temizlendi\n",
      "✓ sales_pipeline.account temizlendi\n",
      "✓ sales_pipeline.deal_stage temizlendi\n",
      "✓ sales_teams.sales_agent temizlendi\n",
      "✓ sales_teams.manager temizlendi\n",
      "✓ sales_teams.regional_office temizlendi\n",
      "✓ products.product temizlendi\n",
      "✓ products.series temizlendi\n"
     ]
    }
   ],
   "source": [
    "# Text sütunlarını temizle (boşlukları kaldır)\n",
    "print(\"\\nText sütunları temizleniyor...\")\n",
    "for df_name, df in [('accounts', accounts_clean), ('sales_pipeline', sales_pipeline_clean), \n",
    "                     ('sales_teams', sales_teams_clean), ('products', products_clean)]:\n",
    "    for col in df.columns:\n",
    "        if df[col].dtype == 'object':\n",
    "            df[col] = df[col].str.strip()\n",
    "            print(f\"✓ {df_name}.{col} temizlendi\")"
   ]
  },
  {
   "cell_type": "markdown",
   "id": "be18f4b6",
   "metadata": {},
   "source": [
    "# =============================================================================\n",
    "# 5. FEATURE ENGINEERING (ÖZELLİK MÜHENDİSLİĞİ)\n",
    "# ============================================================================="
   ]
  },
  {
   "cell_type": "markdown",
   "id": "3891f208",
   "metadata": {},
   "source": []
  },
  {
   "cell_type": "markdown",
   "id": "e86a8dd8",
   "metadata": {},
   "source": [
    "# 5.1. ACCOUNTS tablosu için yeni özellikler"
   ]
  },
  {
   "cell_type": "code",
   "execution_count": 15,
   "id": "7dded17c",
   "metadata": {},
   "outputs": [
    {
     "name": "stdout",
     "output_type": "stream",
     "text": [
      "✓ company_age oluşturuldu\n"
     ]
    }
   ],
   "source": [
    "# Şirket yaşı hesapla\n",
    "if 'year_established' in accounts_clean.columns:\n",
    "    current_year = datetime.now().year\n",
    "    accounts_clean['company_age'] = current_year - accounts_clean['year_established']\n",
    "    print(\"✓ company_age oluşturuldu\")"
   ]
  },
  {
   "cell_type": "code",
   "execution_count": 16,
   "id": "147b22c1",
   "metadata": {},
   "outputs": [
    {
     "name": "stdout",
     "output_type": "stream",
     "text": [
      "✓ revenue_per_employee oluşturuldu\n"
     ]
    }
   ],
   "source": [
    "# Çalışan başına gelir\n",
    "if 'revenue' in accounts_clean.columns and 'employees' in accounts_clean.columns:\n",
    "    accounts_clean['revenue_per_employee'] = accounts_clean['revenue'] / accounts_clean['employees'].replace(0, np.nan)\n",
    "    print(\"✓ revenue_per_employee oluşturuldu\")"
   ]
  },
  {
   "cell_type": "code",
   "execution_count": 19,
   "id": "05148d79",
   "metadata": {},
   "outputs": [
    {
     "name": "stdout",
     "output_type": "stream",
     "text": [
      "✓ company_size kategorisi oluşturuldu\n"
     ]
    }
   ],
   "source": [
    "# Şirket büyüklük kategorisi\n",
    "if 'employees' in accounts_clean.columns:\n",
    "    accounts_clean['company_size'] = pd.cut(accounts_clean['employees'], \n",
    "                                             bins=[0, 50, 250, 1000, np.inf],\n",
    "                                             labels=['Small', 'Medium', 'Large', 'Enterprise'])\n",
    "    print(\"✓ company_size kategorisi oluşturuldu\")"
   ]
  },
  {
   "cell_type": "markdown",
   "id": "e2a65112",
   "metadata": {},
   "source": [
    "# 5.2. SALES_PIPELINE tablosu için yeni özellikler"
   ]
  },
  {
   "cell_type": "code",
   "execution_count": null,
   "id": "03091988",
   "metadata": {},
   "outputs": [],
   "source": [
    "# Satış döngüsü süresi (gün)\n",
    "if 'engage_date_text' in sales_pipeline_clean.columns and 'close_date_text' in sales_pipeline_clean.columns:\n",
    "    sales_pipeline_clean['sales_cycle_days'] = (sales_pipeline_clean['close_date_text'] - \n",
    "                                                 sales_pipeline_clean['engage_date_text']).dt.days\n",
    "    print(\"✓ sales_cycle_days oluşturuldu\")"
   ]
  },
  {
   "cell_type": "code",
   "execution_count": 21,
   "id": "cc55d830",
   "metadata": {},
   "outputs": [
    {
     "name": "stdout",
     "output_type": "stream",
     "text": [
      "✓ Zaman özellikleri oluşturuldu (month, quarter, year)\n"
     ]
    }
   ],
   "source": [
    "# Ay ve çeyrek bilgileri\n",
    "if 'close_date' in sales_pipeline_clean.columns:\n",
    "    sales_pipeline_clean['close_month'] = sales_pipeline_clean['close_date'].dt.month\n",
    "    sales_pipeline_clean['close_quarter'] = sales_pipeline_clean['close_date'].dt.quarter\n",
    "    sales_pipeline_clean['close_year'] = sales_pipeline_clean['close_date'].dt.year\n",
    "    print(\"✓ Zaman özellikleri oluşturuldu (month, quarter, year)\")"
   ]
  },
  {
   "cell_type": "code",
   "execution_count": 22,
   "id": "e9d83edb",
   "metadata": {},
   "outputs": [
    {
     "name": "stdout",
     "output_type": "stream",
     "text": [
      "✓ is_won ve is_lost binary özellikleri oluşturuldu\n"
     ]
    }
   ],
   "source": [
    "# Deal stage'i binary'e çevir (Won/Lost vs Others)\n",
    "if 'deal_stage' in sales_pipeline_clean.columns:\n",
    "    sales_pipeline_clean['is_won'] = (sales_pipeline_clean['deal_stage'] == 'Won').astype(int)\n",
    "    sales_pipeline_clean['is_lost'] = (sales_pipeline_clean['deal_stage'] == 'Lost').astype(int)\n",
    "    print(\"✓ is_won ve is_lost binary özellikleri oluşturuldu\")"
   ]
  },
  {
   "cell_type": "markdown",
   "id": "f2e5c62e",
   "metadata": {},
   "source": [
    "# =============================================================================\n",
    "# 6. KATEGORİK DEĞİŞKEN KODLAMA (ENCODING)\n",
    "# ============================================================================="
   ]
  },
  {
   "cell_type": "code",
   "execution_count": 23,
   "id": "725c496a",
   "metadata": {},
   "outputs": [],
   "source": [
    "# Label Encoding için sütunlar\n",
    "label_encode_columns = {\n",
    "    'accounts': ['sector', 'office_location'],\n",
    "    'sales_pipeline': ['deal_stage', 'product'],\n",
    "    'sales_teams': ['manager', 'regional_office'],\n",
    "    'products': ['series']\n",
    "}"
   ]
  },
  {
   "cell_type": "code",
   "execution_count": 24,
   "id": "fc35836e",
   "metadata": {},
   "outputs": [],
   "source": [
    "# Label Encoding uygula\n",
    "le = LabelEncoder()"
   ]
  },
  {
   "cell_type": "code",
   "execution_count": null,
   "id": "33d76ddd",
   "metadata": {},
   "outputs": [],
   "source": [
    "for table, columns in label_encode_columns.items():\n",
    "    if table == 'accounts':\n",
    "        df = accounts_clean\n",
    "    elif table == 'sales_pipeline':\n",
    "        df = sales_pipeline_clean\n",
    "    elif table == 'sales_teams':\n",
    "        df = sales_teams_clean\n",
    "    else:\n",
    "        df = products_clean\n",
    "    \n",
    "    for col in columns:\n",
    "        if col in df.columns:\n",
    "            df[f'{col}_encoded'] = le.fit_transform(df[col].astype(str))\n",
    "            print(f\"✓ {table}.{col} → {col}_encoded\")"
   ]
  },
  {
   "cell_type": "code",
   "execution_count": null,
   "id": "4103a7a6",
   "metadata": {},
   "outputs": [],
   "source": [
    "# Company size için one-hot encoding\n",
    "if 'company_size' in accounts_clean.columns:\n",
    "    size_dummies = pd.get_dummies(accounts_clean['company_size'], prefix='size')\n",
    "    accounts_clean = pd.concat([accounts_clean, size_dummies], axis=1)\n",
    "    print(f\"✓ company_size için {len(size_dummies.columns)} dummy değişken oluşturuldu\")\n"
   ]
  },
  {
   "cell_type": "markdown",
   "id": "77bebf34",
   "metadata": {},
   "source": [
    "# =============================================================================\n",
    "# 7. VERİ SETLERİNİ BİRLEŞTİRME (MERGING)\n",
    "# ============================================================================="
   ]
  },
  {
   "cell_type": "code",
   "execution_count": 25,
   "id": "2fceee13",
   "metadata": {},
   "outputs": [
    {
     "name": "stdout",
     "output_type": "stream",
     "text": [
      "Başlangıç boyutu: (8800, 13)\n"
     ]
    }
   ],
   "source": [
    "\n",
    "# Sales Pipeline'ı merkez al\n",
    "master_df = sales_pipeline_clean.copy()\n",
    "print(f\"Başlangıç boyutu: {master_df.shape}\")"
   ]
  },
  {
   "cell_type": "code",
   "execution_count": 27,
   "id": "cddde298",
   "metadata": {},
   "outputs": [
    {
     "name": "stdout",
     "output_type": "stream",
     "text": [
      "✓ PRODUCTS birleştirildi: (8800, 15)\n"
     ]
    }
   ],
   "source": [
    "# PRODUCTS tablosu ile birleştir\n",
    "if 'product' in master_df.columns and 'product' in products_clean.columns:\n",
    "    master_df = master_df.merge(products_clean, on='product', how='left', suffixes=('', '_product'))\n",
    "    print(f\"✓ PRODUCTS birleştirildi: {master_df.shape}\")"
   ]
  },
  {
   "cell_type": "code",
   "execution_count": 28,
   "id": "a447d680",
   "metadata": {},
   "outputs": [
    {
     "name": "stdout",
     "output_type": "stream",
     "text": [
      "✓ SALES_TEAMS birleştirildi: (8800, 17)\n"
     ]
    }
   ],
   "source": [
    "# SALES_TEAMS tablosu ile birleştir\n",
    "if 'sales_agent' in master_df.columns and 'sales_agent' in sales_teams_clean.columns:\n",
    "    master_df = master_df.merge(sales_teams_clean, on='sales_agent', how='left', suffixes=('', '_team'))\n",
    "    print(f\"✓ SALES_TEAMS birleştirildi: {master_df.shape}\")"
   ]
  },
  {
   "cell_type": "code",
   "execution_count": 29,
   "id": "16ae7190",
   "metadata": {},
   "outputs": [
    {
     "name": "stdout",
     "output_type": "stream",
     "text": [
      "✓ ACCOUNTS birleştirildi: (8800, 26)\n"
     ]
    }
   ],
   "source": [
    "# ACCOUNTS tablosu ile birleştir\n",
    "if 'account' in master_df.columns and 'account' in accounts_clean.columns:\n",
    "    master_df = master_df.merge(accounts_clean, on='account', how='left', suffixes=('', '_account'))\n",
    "    print(f\"✓ ACCOUNTS birleştirildi: {master_df.shape}\")"
   ]
  },
  {
   "cell_type": "markdown",
   "id": "e78bea7c",
   "metadata": {},
   "source": [
    "# =============================================================================\n",
    "# 8. ÖZELLİK SEÇİMİ (FEATURE SELECTION)\n",
    "# ============================================================================="
   ]
  },
  {
   "cell_type": "code",
   "execution_count": 30,
   "id": "c8ac7c21",
   "metadata": {},
   "outputs": [],
   "source": [
    "# Gereksiz sütunları kaldır\n",
    "columns_to_drop = []"
   ]
  },
  {
   "cell_type": "code",
   "execution_count": 31,
   "id": "72bec902",
   "metadata": {},
   "outputs": [],
   "source": [
    "# ID ve text sütunlarını kaldır (encoded versiyonları varsa)\n",
    "for col in master_df.columns:\n",
    "    if col.endswith('_text') and f'{col}_encoded' in master_df.columns:\n",
    "        columns_to_drop.append(col)"
   ]
  },
  {
   "cell_type": "code",
   "execution_count": 33,
   "id": "642ef9a3",
   "metadata": {},
   "outputs": [],
   "source": [
    "# Tarih sütunlarını kaldır (türetilmiş özellikler varsa)\n",
    "if 'close_month' in master_df.columns:\n",
    "    date_cols = [col for col in master_df.columns if 'date' in col.lower() and master_df[col].dtype == 'datetime64[ns]']\n",
    "    columns_to_drop.extend(date_cols)"
   ]
  },
  {
   "cell_type": "code",
   "execution_count": 32,
   "id": "241c5ee4",
   "metadata": {},
   "outputs": [],
   "source": [
    "# Yüksek korelasyonlu sütunları bul ve kaldır\n",
    "numeric_cols = master_df.select_dtypes(include=[np.number]).columns\n",
    "correlation_matrix = master_df[numeric_cols].corr().abs()"
   ]
  },
  {
   "cell_type": "code",
   "execution_count": 34,
   "id": "cbed313a",
   "metadata": {},
   "outputs": [],
   "source": [
    "# Üst üçgen matris\n",
    "upper_triangle = correlation_matrix.where(np.triu(np.ones(correlation_matrix.shape), k=1).astype(bool))"
   ]
  },
  {
   "cell_type": "code",
   "execution_count": 35,
   "id": "9c25fac9",
   "metadata": {},
   "outputs": [],
   "source": [
    "# 0.95'ten yüksek korelasyonlu sütunları bul\n",
    "high_corr_cols = [column for column in upper_triangle.columns if any(upper_triangle[column] > 0.95)]"
   ]
  },
  {
   "cell_type": "code",
   "execution_count": 36,
   "id": "f7f0f1c9",
   "metadata": {},
   "outputs": [
    {
     "name": "stdout",
     "output_type": "stream",
     "text": [
      "\n",
      "Yüksek korelasyonlu sütunlar (3): ['close_quarter', 'employees', 'company_age']\n"
     ]
    }
   ],
   "source": [
    "print(f\"\\nYüksek korelasyonlu sütunlar ({len(high_corr_cols)}): {high_corr_cols}\")\n",
    "columns_to_drop.extend(high_corr_cols)"
   ]
  },
  {
   "cell_type": "code",
   "execution_count": 37,
   "id": "c4d4e904",
   "metadata": {},
   "outputs": [],
   "source": [
    "# Sütunları kaldır\n",
    "columns_to_drop = list(set(columns_to_drop))  # Tekrarları kaldır\n",
    "master_df_clean = master_df.drop(columns=[col for col in columns_to_drop if col in master_df.columns])"
   ]
  },
  {
   "cell_type": "code",
   "execution_count": 38,
   "id": "b19e4607",
   "metadata": {},
   "outputs": [
    {
     "name": "stdout",
     "output_type": "stream",
     "text": [
      "\n",
      "5 sütun kaldırıldı\n",
      "Kalan sütun sayısı: 21\n"
     ]
    }
   ],
   "source": [
    "print(f\"\\n{len(columns_to_drop)} sütun kaldırıldı\")\n",
    "print(f\"Kalan sütun sayısı: {master_df_clean.shape[1]}\")"
   ]
  },
  {
   "cell_type": "markdown",
   "id": "6a48e336",
   "metadata": {},
   "source": [
    "# =============================================================================\n",
    "# 9. NORMALİZASYON ve STANDARDİZASYON\n",
    "# ============================================================================="
   ]
  },
  {
   "cell_type": "code",
   "execution_count": 39,
   "id": "10590caf",
   "metadata": {},
   "outputs": [],
   "source": [
    "# Sadece numerik sütunları al\n",
    "numeric_features = master_df_clean.select_dtypes(include=[np.number]).columns.tolist()\n"
   ]
  },
  {
   "cell_type": "code",
   "execution_count": 45,
   "id": "a6200d95",
   "metadata": {},
   "outputs": [],
   "source": [
    "# Hedef değişkeni çıkar (varsa)\n",
    "target_cols = ['is_won', 'is_lost', 'close_value']\n",
    "features_to_scale = [col for col in numeric_features if col not in target_cols]"
   ]
  },
  {
   "cell_type": "code",
   "execution_count": 46,
   "id": "92675dac",
   "metadata": {},
   "outputs": [
    {
     "name": "stdout",
     "output_type": "stream",
     "text": [
      "\n",
      "6 sütun normalize edilecek\n"
     ]
    }
   ],
   "source": [
    "print(f\"\\n{len(features_to_scale)} sütun normalize edilecek\")"
   ]
  },
  {
   "cell_type": "code",
   "execution_count": 47,
   "id": "413255de",
   "metadata": {},
   "outputs": [],
   "source": [
    "# StandardScaler (z-score normalization)\n",
    "scaler_standard = StandardScaler()\n",
    "master_df_scaled = master_df_clean.copy()"
   ]
  },
  {
   "cell_type": "code",
   "execution_count": 48,
   "id": "9c4afba4",
   "metadata": {},
   "outputs": [
    {
     "name": "stdout",
     "output_type": "stream",
     "text": [
      "✓ StandardScaler uygulandı (z-score)\n"
     ]
    }
   ],
   "source": [
    "if features_to_scale:\n",
    "    master_df_scaled[features_to_scale] = scaler_standard.fit_transform(master_df_clean[features_to_scale])\n",
    "    print(\"✓ StandardScaler uygulandı (z-score)\")"
   ]
  },
  {
   "cell_type": "code",
   "execution_count": 49,
   "id": "c4ac511d",
   "metadata": {},
   "outputs": [],
   "source": [
    "# MinMaxScaler (0-1 arası normalization) - alternatif\n",
    "scaler_minmax = MinMaxScaler()\n",
    "master_df_minmax = master_df_clean.copy()"
   ]
  },
  {
   "cell_type": "code",
   "execution_count": 54,
   "id": "ba35b5c4",
   "metadata": {},
   "outputs": [
    {
     "ename": "NameError",
     "evalue": "name 'features_to_minmax' is not defined",
     "output_type": "error",
     "traceback": [
      "\u001b[31m---------------------------------------------------------------------------\u001b[39m",
      "\u001b[31mNameError\u001b[39m                                 Traceback (most recent call last)",
      "\u001b[36mCell\u001b[39m\u001b[36m \u001b[39m\u001b[32mIn[54]\u001b[39m\u001b[32m, line 2\u001b[39m\n\u001b[32m      1\u001b[39m \u001b[38;5;28;01mif\u001b[39;00m features_to_scale:\n\u001b[32m----> \u001b[39m\u001b[32m2\u001b[39m     master_df_minmax[features_to_scale] = scaler_minmax.fit_transform(master_df_clean[\u001b[43mfeatures_to_minmax\u001b[49m[features_to_scale]])\n\u001b[32m      3\u001b[39m     \u001b[38;5;28mprint\u001b[39m(\u001b[33m\"\u001b[39m\u001b[33m✓ MinMaxScaler uygulandı (0-1)\u001b[39m\u001b[33m\"\u001b[39m)\n\u001b[32m      6\u001b[39m     \u001b[38;5;66;03m###bu kod parçasında hata var\u001b[39;00m\n",
      "\u001b[31mNameError\u001b[39m: name 'features_to_minmax' is not defined"
     ]
    }
   ],
   "source": [
    "if features_to_scale:\n",
    "    master_df_minmax[features_to_scale] = scaler_minmax.fit_transform(master_df_clean[features_to_minmax[features_to_scale]])\n",
    "    print(\"✓ MinMaxScaler uygulandı (0-1)\")\n",
    "\n",
    "\n",
    "    ###bu kod parçasında hata var"
   ]
  },
  {
   "cell_type": "markdown",
   "id": "11c456b9",
   "metadata": {},
   "source": [
    "# =============================================================================\n",
    "# 10. VERİ KALİTESİ KONTROLÜ\n",
    "# ============================================================================="
   ]
  },
  {
   "cell_type": "code",
   "execution_count": 55,
   "id": "082030ad",
   "metadata": {},
   "outputs": [],
   "source": [
    "def final_quality_check(df, df_name):\n",
    "    print(f\"\\n--- {df_name} ---\")\n",
    "    print(f\"Boyut: {df.shape}\")\n",
    "    print(f\"Eksik değer: {df.isnull().sum().sum()}\")\n",
    "    print(f\"Tekrarlayan satır: {df.duplicated().sum()}\")\n",
    "    print(f\"Numerik sütun: {len(df.select_dtypes(include=[np.number]).columns)}\")\n",
    "    print(f\"Kategorik sütun: {len(df.select_dtypes(include=['object']).columns)}\")\n",
    "    print(f\"Bellek kullanımı: {df.memory_usage(deep=True).sum() / 1024**2:.2f} MB\")"
   ]
  },
  {
   "cell_type": "code",
   "execution_count": 56,
   "id": "fda386be",
   "metadata": {},
   "outputs": [
    {
     "name": "stdout",
     "output_type": "stream",
     "text": [
      "\n",
      "--- ACCOUNTS (temiz) ---\n",
      "Boyut: (85, 10)\n",
      "Eksik değer: 0\n",
      "Tekrarlayan satır: 0\n",
      "Numerik sütun: 5\n",
      "Kategorik sütun: 4\n",
      "Bellek kullanımı: 0.02 MB\n",
      "\n",
      "--- SALES_PIPELINE (temiz) ---\n",
      "Boyut: (8800, 13)\n",
      "Eksik değer: 0\n",
      "Tekrarlayan satır: 0\n",
      "Numerik sütun: 6\n",
      "Kategorik sütun: 5\n",
      "Bellek kullanımı: 2.81 MB\n",
      "\n",
      "--- SALES_TEAMS (temiz) ---\n",
      "Boyut: (35, 3)\n",
      "Eksik değer: 0\n",
      "Tekrarlayan satır: 0\n",
      "Numerik sütun: 0\n",
      "Kategorik sütun: 3\n",
      "Bellek kullanımı: 0.01 MB\n",
      "\n",
      "--- PRODUCTS (temiz) ---\n",
      "Boyut: (7, 3)\n",
      "Eksik değer: 0\n",
      "Tekrarlayan satır: 0\n",
      "Numerik sütun: 1\n",
      "Kategorik sütun: 2\n",
      "Bellek kullanımı: 0.00 MB\n",
      "\n",
      "--- MASTER_DF (birleştirilmiş) ---\n",
      "Boyut: (8800, 21)\n",
      "Eksik değer: 2960\n",
      "Tekrarlayan satır: 0\n",
      "Numerik sütun: 9\n",
      "Kategorik sütun: 11\n",
      "Bellek kullanımı: 5.82 MB\n"
     ]
    }
   ],
   "source": [
    "final_quality_check(accounts_clean, \"ACCOUNTS (temiz)\")\n",
    "final_quality_check(sales_pipeline_clean, \"SALES_PIPELINE (temiz)\")\n",
    "final_quality_check(sales_teams_clean, \"SALES_TEAMS (temiz)\")\n",
    "final_quality_check(products_clean, \"PRODUCTS (temiz)\")\n",
    "final_quality_check(master_df_clean, \"MASTER_DF (birleştirilmiş)\")"
   ]
  },
  {
   "cell_type": "markdown",
   "id": "fb8889b8",
   "metadata": {},
   "source": [
    "# =============================================================================\n",
    "# 11. TEMİZ VERİLERİ KAYDETME\n",
    "# ============================================================================="
   ]
  },
  {
   "cell_type": "code",
   "execution_count": 57,
   "id": "bdfa4160",
   "metadata": {},
   "outputs": [],
   "source": [
    "# CSV olarak kaydet\n",
    "accounts_clean.to_csv('accounts_clean.csv', index=False)\n",
    "sales_pipeline_clean.to_csv('sales_pipeline_clean.csv', index=False)\n",
    "sales_teams_clean.to_csv('sales_teams_clean.csv', index=False)\n",
    "products_clean.to_csv('products_clean.csv', index=False)\n",
    "master_df_clean.to_csv('master_df_clean.csv', index=False)\n",
    "master_df_scaled.to_csv('master_df_scaled.csv', index=False)"
   ]
  },
  {
   "cell_type": "markdown",
   "id": "d48b2bea",
   "metadata": {},
   "source": [
    "# =============================================================================\n",
    "# 12. GÖRSELLEŞTIRMELER - ÖNCE vs SONRA\n",
    "# ============================================================================="
   ]
  },
  {
   "cell_type": "code",
   "execution_count": 59,
   "id": "1fc22581",
   "metadata": {},
   "outputs": [
    {
     "name": "stdout",
     "output_type": "stream",
     "text": [
      "\n",
      "================================================================================\n",
      "13. GÖRSELLEŞTIRMELER OLUŞTURULUYOR...\n",
      "================================================================================\n",
      "\n",
      "✓ Görselleştirmeler 'data_preparation_results.png' olarak kaydedildi\n"
     ]
    },
    {
     "data": {
      "image/png": "[encoded data removed]",
      "text/plain": [
       "<Figure size 2000x1200 with 9 Axes>"
      ]
     },
     "metadata": {},
     "output_type": "display_data"
    }
   ],
   "source": [
    "\n",
    "\n",
    "print(\"\\n\" + \"=\"*80)\n",
    "print(\"13. GÖRSELLEŞTIRMELER OLUŞTURULUYOR...\")\n",
    "print(\"=\"*80)\n",
    "\n",
    "fig = plt.figure(figsize=(20, 12))\n",
    "\n",
    "# 1. Eksik veri karşılaştırması\n",
    "plt.subplot(3, 3, 1)\n",
    "missing_comparison = pd.DataFrame({\n",
    "    'Önce': [accounts_df.isnull().sum().sum(), sales_pipeline_df.isnull().sum().sum(),\n",
    "             sales_team_df.isnull().sum().sum(), products_df.isnull().sum().sum()],\n",
    "    'Sonra': [accounts_clean.isnull().sum().sum(), sales_pipeline_clean.isnull().sum().sum(),\n",
    "              sales_teams_clean.isnull().sum().sum(), products_clean.isnull().sum().sum()]\n",
    "}, index=['Accounts', 'Sales Pipeline', 'Sales Teams', 'Products'])\n",
    "missing_comparison.plot(kind='bar', ax=plt.gca())\n",
    "plt.title('Eksik Veri: Önce vs Sonra', fontweight='bold')\n",
    "plt.ylabel('Eksik Değer Sayısı')\n",
    "plt.xticks(rotation=45, ha='right')\n",
    "\n",
    "# 2. Company age dağılımı\n",
    "if 'company_age' in accounts_clean.columns:\n",
    "    plt.subplot(3, 3, 2)\n",
    "    accounts_clean['company_age'].hist(bins=30, edgecolor='black')\n",
    "    plt.title('Şirket Yaşı Dağılımı (Yeni Özellik)', fontweight='bold')\n",
    "    plt.xlabel('Yaş (yıl)')\n",
    "\n",
    "# 3. Revenue per employee dağılımı\n",
    "if 'revenue_per_employee' in accounts_clean.columns:\n",
    "    plt.subplot(3, 3, 3)\n",
    "    accounts_clean['revenue_per_employee'].hist(bins=30, edgecolor='black', color='green')\n",
    "    plt.title('Çalışan Başına Gelir (Yeni Özellik)', fontweight='bold')\n",
    "    plt.xlabel('Revenue per Employee')\n",
    "\n",
    "# 4. Sales cycle days\n",
    "if 'sales_cycle_days' in sales_pipeline_clean.columns:\n",
    "    plt.subplot(3, 3, 4)\n",
    "    sales_pipeline_clean['sales_cycle_days'].hist(bins=30, edgecolor='black', color='orange')\n",
    "    plt.title('Satış Döngüsü Süresi (Yeni Özellik)', fontweight='bold')\n",
    "    plt.xlabel('Gün')\n",
    "\n",
    "# 5. Company size dağılımı\n",
    "if 'company_size' in accounts_clean.columns:\n",
    "    plt.subplot(3, 3, 5)\n",
    "    accounts_clean['company_size'].value_counts().plot(kind='pie', autopct='%1.1f%%')\n",
    "    plt.title('Şirket Büyüklüğü Kategorisi', fontweight='bold')\n",
    "    plt.ylabel('')\n",
    "\n",
    "# 6. Close month dağılımı\n",
    "if 'close_month' in sales_pipeline_clean.columns:\n",
    "    plt.subplot(3, 3, 6)\n",
    "    sales_pipeline_clean['close_month'].value_counts().sort_index().plot(kind='bar', color='purple')\n",
    "    plt.title('Aylık Kapanış Dağılımı', fontweight='bold')\n",
    "    plt.xlabel('Ay')\n",
    "    plt.ylabel('Adet')\n",
    "\n",
    "# 7. Is_won dağılımı\n",
    "if 'is_won' in sales_pipeline_clean.columns:\n",
    "    plt.subplot(3, 3, 7)\n",
    "    sales_pipeline_clean['is_won'].value_counts().plot(kind='bar', color=['red', 'green'])\n",
    "    plt.title('Kazanılan/Kaybedilen Satışlar', fontweight='bold')\n",
    "    plt.xlabel('0: Lost, 1: Won')\n",
    "    plt.xticks(rotation=0)\n",
    "\n",
    "# 8. Korelasyon matrisi (yeni özellikler)\n",
    "plt.subplot(3, 3, 8)\n",
    "new_features = ['company_age', 'revenue_per_employee', 'sales_cycle_days', 'close_month']\n",
    "existing_features = [col for col in new_features if col in master_df_clean.columns]\n",
    "if len(existing_features) > 1:\n",
    "    corr_new = master_df_clean[existing_features].corr()\n",
    "    sns.heatmap(corr_new, annot=True, fmt='.2f', cmap='coolwarm', center=0)\n",
    "    plt.title('Yeni Özellikler - Korelasyon', fontweight='bold')\n",
    "\n",
    "# 9. Veri seti boyut karşılaştırması\n",
    "plt.subplot(3, 3, 9)\n",
    "sizes = pd.DataFrame({\n",
    "    'Satır': [accounts_df.shape[0], sales_pipeline_df.shape[0], master_df_clean.shape[0]],\n",
    "    'Sütun': [accounts_df.shape[1], sales_pipeline_df.shape[1], master_df_clean.shape[1]]\n",
    "}, index=['Accounts', 'Sales Pipeline', 'Master'])\n",
    "sizes.plot(kind='bar', ax=plt.gca())\n",
    "plt.title('Veri Seti Boyutları', fontweight='bold')\n",
    "plt.ylabel('Sayı')\n",
    "plt.xticks(rotation=45, ha='right')\n",
    "\n",
    "plt.tight_layout()\n",
    "plt.savefig('data_preparation_results.png', dpi=300, bbox_inches='tight')\n",
    "print(\"\\n✓ Görselleştirmeler 'data_preparation_results.png' olarak kaydedildi\")\n"
   ]
  },
  {
   "cell_type": "code",
   "execution_count": null,
   "id": "a0baf1cb",
   "metadata": {},
   "outputs": [],
   "source": []
  }
 ],
 "metadata": {
  "kernelspec": {
   "display_name": "base",
   "language": "python",
   "name": "python3"
  },
  "language_info": {
   "codemirror_mode": {
    "name": "ipython",
    "version": 3
   },
   "file_extension": ".py",
   "mimetype": "text/x-python",
   "name": "python",
   "nbconvert_exporter": "python",
   "pygments_lexer": "ipython3",
   "version": "3.12.7"
  }
 },
 "nbformat": 4,
 "nbformat_minor": 5
}
